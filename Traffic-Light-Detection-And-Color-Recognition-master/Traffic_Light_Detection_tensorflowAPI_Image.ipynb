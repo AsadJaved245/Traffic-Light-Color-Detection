{
 "cells": [
  {
   "cell_type": "markdown",
   "metadata": {},
   "source": [
    "# Traffic Light Detection and Color Recognition"
   ]
  },
  {
   "cell_type": "markdown",
   "metadata": {},
   "source": [
    "## Import Important Libraries"
   ]
  },
  {
   "cell_type": "code",
   "execution_count": 8,
   "metadata": {},
   "outputs": [
    {
     "ename": "ModuleNotFoundError",
     "evalue": "No module named 'numpy'",
     "output_type": "error",
     "traceback": [
      "\u001b[1;31m---------------------------------------------------------------------------\u001b[0m",
      "\u001b[1;31mModuleNotFoundError\u001b[0m                       Traceback (most recent call last)",
      "Cell \u001b[1;32mIn[8], line 3\u001b[0m\n\u001b[0;32m      1\u001b[0m \u001b[38;5;66;03m### Import Important Libraries\u001b[39;00m\n\u001b[1;32m----> 3\u001b[0m \u001b[38;5;28;01mimport\u001b[39;00m \u001b[38;5;21;01mnumpy\u001b[39;00m \u001b[38;5;28;01mas\u001b[39;00m \u001b[38;5;21;01mnp\u001b[39;00m\n\u001b[0;32m      4\u001b[0m \u001b[38;5;28;01mimport\u001b[39;00m \u001b[38;5;21;01mos\u001b[39;00m\n\u001b[0;32m      5\u001b[0m \u001b[38;5;28;01mimport\u001b[39;00m \u001b[38;5;21;01msix\u001b[39;00m\u001b[38;5;21;01m.\u001b[39;00m\u001b[38;5;21;01mmoves\u001b[39;00m\u001b[38;5;21;01m.\u001b[39;00m\u001b[38;5;21;01murllib\u001b[39;00m \u001b[38;5;28;01mas\u001b[39;00m \u001b[38;5;21;01murllib\u001b[39;00m\n",
      "\u001b[1;31mModuleNotFoundError\u001b[0m: No module named 'numpy'"
     ]
    }
   ],
   "source": [
    "### Import Important Libraries\n",
    "\n",
    "import numpy as np\n",
    "import os\n",
    "import six.moves.urllib as urllib\n",
    "import tarfile\n",
    "import tensorflow as tf\n",
    "from matplotlib import pyplot as plt\n",
    "from PIL import Image\n",
    "from os import path\n",
    "from utils import label_map_util\n",
    "from utils import visualization_utils as vis_util\n",
    "import time\n",
    "import cv2\n"
   ]
  },
  {
   "cell_type": "markdown",
   "metadata": {},
   "source": [
    "## Function To Detect Red and Yellow Color\n",
    "Here,we are detecting only Red and Yellow colors for the traffic lights as we need to stop the car when it detects these colors. "
   ]
  },
  {
   "cell_type": "code",
   "execution_count": 2,
   "metadata": {},
   "outputs": [],
   "source": [
    "def detect_red_and_yellow(img, Threshold=0.01):\n",
    "    \"\"\"\n",
    "    detect red and yellow\n",
    "    :param img:\n",
    "    :param Threshold:\n",
    "    :return:\n",
    "    \"\"\"\n",
    "\n",
    "    desired_dim = (30, 90)  \n",
    "    img = cv2.resize(np.array(img), desired_dim, interpolation=cv2.INTER_LINEAR)\n",
    "    img_hsv = cv2.cvtColor(img, cv2.COLOR_RGB2HSV)\n",
    "\n",
    "\n",
    "    lower_red = np.array([0, 70, 50])\n",
    "    upper_red = np.array([10, 255, 255])\n",
    "    mask0 = cv2.inRange(img_hsv, lower_red, upper_red)\n",
    "\n",
    "    \n",
    "    lower_red1 = np.array([170, 70, 50])\n",
    "    upper_red1 = np.array([180, 255, 255])\n",
    "    mask1 = cv2.inRange(img_hsv, lower_red1, upper_red1)\n",
    "\n",
    "    \n",
    "    lower_yellow = np.array([21, 39, 64])\n",
    "    upper_yellow = np.array([40, 255, 255])\n",
    "    mask2 = cv2.inRange(img_hsv, lower_yellow, upper_yellow)\n",
    "\n",
    "  \n",
    "    mask = mask0 + mask1 + mask2\n",
    "\n",
    "    \n",
    "    rate = np.count_nonzero(mask) / (desired_dim[0] * desired_dim[1])\n",
    "\n",
    "    if rate > Threshold:\n",
    "        return True\n",
    "    else:\n",
    "        return False"
   ]
  },
  {
   "cell_type": "markdown",
   "metadata": {},
   "source": [
    "## Loading Image Into Numpy Array"
   ]
  },
  {
   "cell_type": "code",
   "execution_count": 7,
   "metadata": {},
   "outputs": [],
   "source": [
    "\n",
    "def load_image_into_numpy_array(image):\n",
    "    (im_width, im_height) = image.size\n",
    "    return np.array(image.getdata()).reshape(\n",
    "        (im_height, im_width, 3)).astype(np.uint8)"
   ]
  },
  {
   "cell_type": "markdown",
   "metadata": {},
   "source": [
    "## Read Traffic Light objects \n",
    "Here,we will write a function to detect TL objects and crop this part of the image to recognize color inside the object. We will create a stop flag,which we will use to take the actions based on recognized color of the traffic light."
   ]
  },
  {
   "cell_type": "code",
   "execution_count": 6,
   "metadata": {},
   "outputs": [],
   "source": [
    "\n",
    "def read_traffic_lights_object(image, boxes, scores, classes, max_boxes_to_draw=20, min_score_thresh=0.5,\n",
    "                               traffic_ligth_label=10):\n",
    "    im_width, im_height = image.size\n",
    "    stop_flag = False\n",
    "    for i in range(min(max_boxes_to_draw, boxes.shape[0])):\n",
    "        if scores[i] > min_score_thresh and classes[i] == traffic_ligth_label:\n",
    "            ymin, xmin, ymax, xmax = tuple(boxes[i].tolist())\n",
    "            (left, right, top, bottom) = (xmin * im_width, xmax * im_width,\n",
    "                                          ymin * im_height, ymax * im_height)\n",
    "            crop_img = image.crop((left, top, right, bottom))\n",
    "\n",
    "            if detect_red_and_yellow(crop_img):\n",
    "                stop_flag = True\n",
    "\n",
    "    return stop_flag\n",
    "\n"
   ]
  },
  {
   "cell_type": "markdown",
   "metadata": {},
   "source": [
    "## Function to Plot detected image"
   ]
  },
  {
   "cell_type": "code",
   "execution_count": 5,
   "metadata": {},
   "outputs": [],
   "source": [
    "def plot_origin_image(image_np, boxes, classes, scores, category_index):\n",
    "    \n",
    "    IMAGE_SIZE = (12, 8)\n",
    "    vis_util.visualize_boxes_and_labels_on_image_array(\n",
    "        image_np,\n",
    "        np.squeeze(boxes),\n",
    "        np.squeeze(classes).astype(np.int32),\n",
    "        np.squeeze(scores),\n",
    "        category_index,\n",
    "        min_score_thresh=.5,\n",
    "        use_normalized_coordinates=True,\n",
    "        line_thickness=3)\n",
    "    plt.figure(figsize=IMAGE_SIZE)\n",
    "    plt.imshow(image_np)\n",
    "\n",
    "   \n",
    "    plt.show()"
   ]
  },
  {
   "cell_type": "markdown",
   "metadata": {},
   "source": [
    "## Function to Detect Traffic Lights and to Recognize Color"
   ]
  },
  {
   "cell_type": "code",
   "execution_count": 4,
   "metadata": {},
   "outputs": [],
   "source": [
    "def detect_traffic_lights(PATH_TO_TEST_IMAGES_DIR, MODEL_NAME, Num_images, plot_flag=False):\n",
    "    \"\"\"\n",
    "    Detect traffic lights and draw bounding boxes around the traffic lights\n",
    "    :param PATH_TO_TEST_IMAGES_DIR: testing image directory\n",
    "    :param MODEL_NAME: name of the model used in the task\n",
    "    :return: commands: True: go, False: stop\n",
    "    \"\"\"\n",
    "\n",
    "    \n",
    "    TEST_IMAGE_PATHS = [os.path.join(PATH_TO_TEST_IMAGES_DIR, 'img_{}.jpg'.format(i)) for i in range(1, Num_images + 1)]\n",
    "\n",
    "    commands = []\n",
    "\n",
    "    \n",
    "    MODEL_FILE = MODEL_NAME + '.tar.gz'\n",
    "    DOWNLOAD_BASE = 'http://download.tensorflow.org/models/object_detection/'\n",
    "\n",
    "    \n",
    "    PATH_TO_CKPT = MODEL_NAME + '/frozen_inference_graph.pb'\n",
    "\n",
    "    \n",
    "    PATH_TO_LABELS = 'mscoco_label_map.pbtxt'\n",
    "\n",
    "    \n",
    "    NUM_CLASSES = 90\n",
    "\n",
    "    \n",
    "    if path.isdir(MODEL_NAME) is False:\n",
    "        opener = urllib.request.URLopener()\n",
    "        opener.retrieve(DOWNLOAD_BASE + MODEL_FILE, MODEL_FILE)\n",
    "        tar_file = tarfile.open(MODEL_FILE)\n",
    "        for file in tar_file.getmembers():\n",
    "            file_name = os.path.basename(file.name)\n",
    "            if 'frozen_inference_graph.pb' in file_name:\n",
    "                tar_file.extract(file, os.getcwd())\n",
    "\n",
    "   \n",
    "    detection_graph = tf.Graph()\n",
    "    with detection_graph.as_default():\n",
    "        od_graph_def = tf.GraphDef()\n",
    "        with tf.gfile.GFile(PATH_TO_CKPT, 'rb') as fid:\n",
    "            serialized_graph = fid.read()\n",
    "            od_graph_def.ParseFromString(serialized_graph)\n",
    "            tf.import_graph_def(od_graph_def, name='')\n",
    "\n",
    "    \n",
    "    label_map = label_map_util.load_labelmap(PATH_TO_LABELS)\n",
    "    categories = label_map_util.convert_label_map_to_categories(label_map,\n",
    "                                                                max_num_classes=NUM_CLASSES,\n",
    "                                                                use_display_name=True)\n",
    "    category_index = label_map_util.create_category_index(categories)\n",
    "\n",
    "    with detection_graph.as_default():\n",
    "        with tf.Session(graph=detection_graph) as sess:\n",
    "            \n",
    "            image_tensor = detection_graph.get_tensor_by_name('image_tensor:0')\n",
    "            \n",
    "            detection_boxes = detection_graph.get_tensor_by_name('detection_boxes:0')\n",
    "            \n",
    "            detection_scores = detection_graph.get_tensor_by_name('detection_scores:0')\n",
    "            detection_classes = detection_graph.get_tensor_by_name('detection_classes:0')\n",
    "            num_detections = detection_graph.get_tensor_by_name('num_detections:0')\n",
    "\n",
    "            for image_path in TEST_IMAGE_PATHS:\n",
    "                image = Image.open(image_path)\n",
    "\n",
    "                \n",
    "                image_np = load_image_into_numpy_array(image)\n",
    "                \n",
    "                image_np_expanded = np.expand_dims(image_np, axis=0)\n",
    "                \n",
    "                (boxes, scores, classes, num) = sess.run(\n",
    "                    [detection_boxes, detection_scores, detection_classes, num_detections],\n",
    "                    feed_dict={image_tensor: image_np_expanded})\n",
    "\n",
    "                stop_flag = read_traffic_lights_object(image, np.squeeze(boxes), np.squeeze(scores),\n",
    "                                                       np.squeeze(classes).astype(np.int32))\n",
    "                if stop_flag:\n",
    "                    commands.append(False)\n",
    "                    cv2.putText(image_np, 'Stop', (15, 25), cv2.FONT_HERSHEY_SIMPLEX, 1, (255, 0, 0), 1)\n",
    "                else:\n",
    "                    commands.append(True)\n",
    "                    cv2.putText(image_np, 'Go', (15, 25), cv2.FONT_HERSHEY_SIMPLEX, 1, (0, 255, 0), 1)\n",
    "\n",
    "                if plot_flag:\n",
    "                    plot_origin_image(image_np, boxes, classes, scores, category_index)\n",
    "\n",
    "    return commands"
   ]
  },
  {
   "cell_type": "markdown",
   "metadata": {},
   "source": [
    "## Let's detect Traffic lights in test_images directory "
   ]
  },
  {
   "cell_type": "code",
   "execution_count": 3,
   "metadata": {},
   "outputs": [
    {
     "ename": "NameError",
     "evalue": "name 'detect_traffic_lights' is not defined",
     "output_type": "error",
     "traceback": [
      "\u001b[1;31m---------------------------------------------------------------------------\u001b[0m",
      "\u001b[1;31mNameError\u001b[0m                                 Traceback (most recent call last)",
      "Cell \u001b[1;32mIn[3], line 8\u001b[0m\n\u001b[0;32m      4\u001b[0m PATH_TO_TEST_IMAGES_DIR \u001b[38;5;241m=\u001b[39m \u001b[38;5;124m'\u001b[39m\u001b[38;5;124m./test_images\u001b[39m\u001b[38;5;124m'\u001b[39m\n\u001b[0;32m      6\u001b[0m MODEL_NAME \u001b[38;5;241m=\u001b[39m \u001b[38;5;124m'\u001b[39m\u001b[38;5;124mfaster_rcnn_resnet101_coco_11_06_2017\u001b[39m\u001b[38;5;124m'\u001b[39m \n\u001b[1;32m----> 8\u001b[0m commands \u001b[38;5;241m=\u001b[39m \u001b[43mdetect_traffic_lights\u001b[49m(PATH_TO_TEST_IMAGES_DIR, MODEL_NAME, Num_images, plot_flag\u001b[38;5;241m=\u001b[39m\u001b[38;5;28;01mTrue\u001b[39;00m)\n\u001b[0;32m      9\u001b[0m \u001b[38;5;28mprint\u001b[39m(commands)  \n",
      "\u001b[1;31mNameError\u001b[0m: name 'detect_traffic_lights' is not defined"
     ]
    }
   ],
   "source": [
    "if __name__ == \"__main__\":\n",
    "    Num_images = 5\n",
    "\n",
    "    PATH_TO_TEST_IMAGES_DIR = './test_images'\n",
    "\n",
    "    MODEL_NAME = 'faster_rcnn_resnet101_coco_11_06_2017' \n",
    "\n",
    "    commands = detect_traffic_lights(PATH_TO_TEST_IMAGES_DIR, MODEL_NAME, Num_images, plot_flag=True)\n",
    "    print(commands)  \n",
    "\n"
   ]
  },
  {
   "cell_type": "code",
   "execution_count": null,
   "metadata": {},
   "outputs": [],
   "source": []
  }
 ],
 "metadata": {
  "kernelspec": {
   "display_name": "Python 3",
   "language": "python",
   "name": "python3"
  },
  "language_info": {
   "codemirror_mode": {
    "name": "ipython",
    "version": 3
   },
   "file_extension": ".py",
   "mimetype": "text/x-python",
   "name": "python",
   "nbconvert_exporter": "python",
   "pygments_lexer": "ipython3",
   "version": "3.11.9"
  }
 },
 "nbformat": 4,
 "nbformat_minor": 2
}
